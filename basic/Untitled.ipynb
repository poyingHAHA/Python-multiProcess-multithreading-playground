{
 "cells": [
  {
   "cell_type": "markdown",
   "id": "3aa60e57-9f50-455f-a1c1-8bef680a424e",
   "metadata": {},
   "source": [
    "## 一. Multi-processing 和Multi-threading 的優缺點：\n",
    "### Multi-processing (多處理程序/多進程)：\n",
    "1. 資料在彼此間傳遞變得更加複雜及花時間，因為一個 process 在作業系統的管理下是無法去存取別的 process 的 memory\n",
    "2. 適合需要 CPU 密集，像是迴圈計算\n",
    "\n",
    "### Multi-threading (多執行緒/多線程)：\n",
    "  1. 資料彼此傳遞簡單，因為多執行緒的 memory 之間是共用的，但也因此要避免會有 Race Condition 問題\n",
    "  2. 適合需要 I/O 密集，像是爬蟲需要時間等待 request 回覆"
   ]
  },
  {
   "cell_type": "markdown",
   "id": "74803583-45a4-4d9a-833f-c919195adf12",
   "metadata": {},
   "source": [
    "## 二. Multi-threading 使用方法：\n",
    "如下我們建立三個線程（t1 , t2 , t3），看要新增幾個可以再增加 t4，t5……\n",
    "\n",
    "1. target=main 就是在呼叫上面所寫的 main 主程式\n",
    "2. args = (url_list1,1) 是放你要給與 main 的參數\n",
    "3. t.start 這邊會依順序開始啟動線程\n",
    "\n",
    "接下來就是跑跑看程式如果都沒有錯誤的話，恭喜你完成了第一隻 python 多線程"
   ]
  },
  {
   "cell_type": "code",
   "execution_count": 3,
   "id": "08be4b4c-6b8e-4019-ada9-7fdb8d64f9a6",
   "metadata": {},
   "outputs": [
    {
     "name": "stdout",
     "output_type": "stream",
     "text": [
      "開始執行 ['www.yahoo.com1', 'www.google.com1']\n",
      "開始執行 ['www.yahoo.com2', 'www.google.com2']\n",
      "開始執行 ['www.yahoo.com3', 'www.google.com3']\n",
      "結束結束 3\n",
      " 1\n",
      "結束 2\n"
     ]
    }
   ],
   "source": [
    "import threading\n",
    "import time\n",
    "\n",
    "def main(url, num):\n",
    "    print('開始執行',url)\n",
    "    time.sleep(2)\n",
    "    print('結束', num)\n",
    "    \n",
    "url_list1 = ['www.yahoo.com1', 'www.google.com1']\n",
    "url_list2 = ['www.yahoo.com2', 'www.google.com2']\n",
    "url_list3 = ['www.yahoo.com3', 'www.google.com3']\n",
    "\n",
    "#定義線程\n",
    "t_list = []\n",
    "t1 = threading.Thread(target=main, args=(url_list1, 1))\n",
    "t2 = threading.Thread(target=main, args=(url_list2, 2))\n",
    "t3 = threading.Thread(target=main, args=(url_list3, 3))\n",
    "\n",
    "for t in [t1, t2, t3]:\n",
    "    t.start()\n",
    "for t in [t1, t2, t3]:\n",
    "    t.join()"
   ]
  },
  {
   "cell_type": "code",
   "execution_count": null,
   "id": "b9994690-bc35-4681-a225-41a6df118e76",
   "metadata": {},
   "outputs": [],
   "source": []
  }
 ],
 "metadata": {
  "kernelspec": {
   "display_name": "Python (finlab)",
   "language": "python",
   "name": "finlab"
  },
  "language_info": {
   "codemirror_mode": {
    "name": "ipython",
    "version": 3
   },
   "file_extension": ".py",
   "mimetype": "text/x-python",
   "name": "python",
   "nbconvert_exporter": "python",
   "pygments_lexer": "ipython3",
   "version": "3.9.6"
  }
 },
 "nbformat": 4,
 "nbformat_minor": 5
}
